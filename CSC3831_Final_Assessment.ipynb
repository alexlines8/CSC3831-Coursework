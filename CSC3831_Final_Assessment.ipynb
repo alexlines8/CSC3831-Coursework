{
 "cells": [
  {
   "cell_type": "markdown",
   "metadata": {
    "id": "SsFtldtMYMGG"
   },
   "source": [
    "# CSC3831 Final Assessment - Part I: Data Engineering\n",
    "\n"
   ]
  },
  {
   "cell_type": "code",
   "execution_count": null,
   "metadata": {
    "id": "CXEwmOVfYG8b"
   },
   "outputs": [],
   "source": [
    "# Loading in standard packages for analysis, feel free to add an extra packages you'd like to use here\n",
    "import random\n",
    "import pandas as pd\n",
    "import numpy as np\n",
    "import seaborn as sns\n",
    "import missingno as msno\n",
    "# Loading in the corrupted dataset to be used in analysis and imputation\n",
    "houses_corrupted = pd.read_csv('https://raw.githubusercontent.com/PaoloMissier/CSC3831-2021-22/main/IMPUTATION/TARGET-DATASETS/CORRUPTED/HOUSES/houses_0.1_MAR.csv', header=0)\n",
    "# Remove an artifact from the dataset\n",
    "houses_corrupted.drop([\"Unnamed: 0\"], axis=1, inplace=True) "
   ]
  },
  {
   "cell_type": "markdown",
   "metadata": {
    "id": "-UkViOchMMIg"
   },
   "source": [
    "Above we've loaded in a corrupted version of a housing dataset. The anomalies need to be dealt with and missing values imputed."
   ]
  },
  {
   "cell_type": "markdown",
   "metadata": {
    "id": "abwbd_vBYsv7"
   },
   "source": [
    "### 1. Data Understanding [7]\n",
    "- Perform ad hoc EDA to understand and describe what you see in the raw dataset\n",
    "  - Include graphs, statistics, and written descritpions as appropriate\n",
    "  - Any extra information about the data you can provide here is useful, think about performing an analysis (ED**A**), what would you find interesting or useful?\n",
    "- Identify features with missing records, outlier records\n"
   ]
  },
  {
   "cell_type": "code",
   "execution_count": null,
   "metadata": {
    "id": "G04uriMrZH7P"
   },
   "outputs": [],
   "source": []
  },
  {
   "cell_type": "markdown",
   "metadata": {
    "id": "CR74DAF_ZQUy"
   },
   "source": [
    "### 2. Outlier Identification [10]\n",
    "- Utilise a statistical outlier detection approach (i.e., **no** KNN, LOF, 1Class SVM)\n",
    "- Utilise an algorithmic outlier detection method of your choice\n",
    "- Compare results and decide what to do with identified outleirs\n",
    "  - Include graphs, statistics, and written descriptions as appropriate\n",
    "- Explain what you are doing, and why your analysis is appropriate\n",
    "- Comment on benefits/detriments of statistical and algorithmic outlier detection approaches\n"
   ]
  },
  {
   "cell_type": "code",
   "execution_count": null,
   "metadata": {
    "id": "jPsaKYCZZPkv"
   },
   "outputs": [],
   "source": []
  },
  {
   "cell_type": "markdown",
   "metadata": {
    "id": "MOZ1nqTXZswr"
   },
   "source": [
    "### 3. Imputation [10]\n",
    "- Identify which features should be imputed and which should be removed\n",
    "  - Provide a written rationale for this decision\n",
    "- Impute the missing records using KNN imputation\n",
    "- Impute the missing records using MICE imputation\n",
    "- Compare both imputed datasets feature distributions against each other and the non-imputed data\n",
    "- Build a regressor on all thre datasets\n",
    "  - Use regression models to predict house median price\n",
    "  - Compare regressors of non-imputed data against imputed datas\n",
    "  - **Note**: If you're struggling to compare against the original dataset focus on comparing the two imputed datasets against each other\n"
   ]
  },
  {
   "cell_type": "code",
   "execution_count": null,
   "metadata": {
    "id": "JdfHAY07QCef"
   },
   "outputs": [],
   "source": [
    "# Use this dataset for comparison against the imputed datasets\n",
    "houses = pd.read_csv('https://raw.githubusercontent.com/PaoloMissier/CSC3831-2021-22/main/IMPUTATION/TARGET-DATASETS/ORIGINAL/houses.csv', header=0)"
   ]
  },
  {
   "cell_type": "markdown",
   "metadata": {
    "id": "NtLeRqcsQRpB"
   },
   "source": [
    "### 4. Conclusions & Throughts [3]\n",
    "- Disucss methods used for anomaly detection, pros/cons of each method\n",
    "- Disucss challenges/difficulties in anomaly detection implementation\n",
    "- Discuss methods used for imputation, pros/cons of each method\n",
    "- Discuss challenges/difficulties in imputation implementation"
   ]
  },
  {
   "cell_type": "markdown",
   "metadata": {
    "id": "7lrraskvQnKu"
   },
   "source": []
  }
 ],
 "metadata": {
  "colab": {
   "provenance": []
  },
  "kernelspec": {
   "display_name": "Python 3",
   "name": "python3"
  },
  "language_info": {
   "name": "python"
  }
 },
 "nbformat": 4,
 "nbformat_minor": 0
}
